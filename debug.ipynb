{
 "cells": [
  {
   "cell_type": "markdown",
   "metadata": {},
   "source": [
    "# Debug\n",
    "\n",
    "## Setup"
   ]
  },
  {
   "cell_type": "code",
   "execution_count": 1,
   "metadata": {},
   "outputs": [],
   "source": [
    "import asyncio\n",
    "import json\n",
    "import os\n",
    "import sys\n",
    "import time\n",
    "import random\n",
    "from collections import defaultdict\n",
    "from datetime import datetime as dt\n",
    "from importlib import reload\n",
    "\n",
    "import django\n",
    "from django.contrib.auth import get_user_model\n",
    "from django.db.models import *\n",
    "from graphene import *\n",
    "from graphql import *\n",
    "from graphql_relay import from_global_id, to_global_id\n",
    "\n",
    "os.environ[\"DJANGO_ALLOW_ASYNC_UNSAFE\"] = \"true\"\n",
    "os.environ[\"DJANGO_SETTINGS_MODULE\"] = \"project.debug\"\n",
    "# os.environ[\"POSTGRES_PORT\"] = \"5432\"\n",
    "\n",
    "django.setup()\n",
    "User = get_user_model()\n",
    "\n",
    "from django.conf import settings"
   ]
  },
  {
   "cell_type": "code",
   "execution_count": 4,
   "metadata": {},
   "outputs": [
    {
     "name": "stdout",
     "output_type": "stream",
     "text": [
      "Function will not run\n"
     ]
    }
   ],
   "source": [
    "from functools import wraps\n",
    "def decorator_name(f):\n",
    "    @wraps(f)\n",
    "    def decorated(*args, **kwargs):\n",
    "        if not can_run:\n",
    "            return \"Function will not run\"\n",
    "        return f(*args, **kwargs)\n",
    "    return decorated\n",
    "\n",
    "@decorator_name\n",
    "def func():\n",
    "    return(\"Function is running\")\n",
    "\n",
    "can_run = False\n",
    "print(func())"
   ]
  }
 ],
 "metadata": {
  "interpreter": {
   "hash": "ba414e2d79512144e5a19fbb3af28916b8e5407cde181db5095fa51f85c309b2"
  },
  "kernelspec": {
   "display_name": "Python 3.10.2 ('.venv': venv)",
   "language": "python",
   "name": "python3"
  },
  "language_info": {
   "codemirror_mode": {
    "name": "ipython",
    "version": 3
   },
   "file_extension": ".py",
   "mimetype": "text/x-python",
   "name": "python",
   "nbconvert_exporter": "python",
   "pygments_lexer": "ipython3",
   "version": "3.10.2"
  },
  "orig_nbformat": 4
 },
 "nbformat": 4,
 "nbformat_minor": 2
}
